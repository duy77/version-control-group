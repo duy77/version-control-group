{
 "cells": [
  {
   "cell_type": "code",
   "execution_count": 6,
   "metadata": {},
   "outputs": [
    {
     "name": "stdin",
     "output_type": "stream",
     "text": [
      "enter your name:  duy\n",
      "enter your phone number:  88986\n",
      "enter your date of birth(mmddyyyy):  ghghhjhs\n"
     ]
    },
    {
     "name": "stdout",
     "output_type": "stream",
     "text": [
      "\n",
      " duy 88986 ghghhjhs\n"
     ]
    }
   ],
   "source": [
    "# My simple program just let the use input name and date of birth\n",
    "# using try expect to print out user input but in inverse side. the purpose to practice group commit in github\n",
    "\n",
    "# Group : Duy nguyen and Khristian Tomko\n",
    "\n",
    "# I write a crazy code fix me, please (you can use while to collect name and phone# or anything you want)\n",
    "\n",
    "ip = input(\"enter your name: \")\n",
    "ph = input(\"enter your phone number: \")\n",
    "ipo = input(\"enter your date of birth(mmddyyyy): \")\n",
    "try:\n",
    "    ipo = int(ipo)\n",
    "    print('done')\n",
    "except:\n",
    "    print('\\n',ip,ph,ipo)\n"
   ]
  },
  {
   "cell_type": "code",
   "execution_count": null,
   "metadata": {},
   "outputs": [],
   "source": []
  }
 ],
 "metadata": {
  "kernelspec": {
   "display_name": "Python 3",
   "language": "python",
   "name": "python3"
  },
  "language_info": {
   "codemirror_mode": {
    "name": "ipython",
    "version": 3
   },
   "file_extension": ".py",
   "mimetype": "text/x-python",
   "name": "python",
   "nbconvert_exporter": "python",
   "pygments_lexer": "ipython3",
   "version": "3.8.3"
  }
 },
 "nbformat": 4,
 "nbformat_minor": 4
}
